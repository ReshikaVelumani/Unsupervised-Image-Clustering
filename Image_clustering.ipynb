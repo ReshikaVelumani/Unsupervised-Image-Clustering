{
 "cells": [
  {
   "cell_type": "code",
   "execution_count": 1,
   "metadata": {},
   "outputs": [
    {
     "name": "stderr",
     "output_type": "stream",
     "text": [
      "/usr/local/lib/python3.5/dist-packages/h5py/__init__.py:36: FutureWarning: Conversion of the second argument of issubdtype from `float` to `np.floating` is deprecated. In future, it will be treated as `np.float64 == np.dtype(float).type`.\n",
      "  from ._conv import register_converters as _register_converters\n",
      "Using TensorFlow backend.\n"
     ]
    }
   ],
   "source": [
    "% matplotlib inline\n",
    "import time\n",
    "import os, os.path\n",
    "import glob\n",
    "import keras\n",
    "import matplotlib\n",
    "import matplotlib.pyplot as plt\n",
    "from sklearn.cluster import KMeans\n",
    "from sklearn.decomposition import PCA\n",
    "from keras.preprocessing import image\n",
    "from keras.applications.resnet50 import preprocess_input\n",
    "from shutil import copyfile\n",
    "import numpy as np\n",
    "import pandas as pd\n",
    "import numpy as np"
   ]
  },
  {
   "cell_type": "code",
   "execution_count": 7,
   "metadata": {},
   "outputs": [],
   "source": [
    "# directory where images are stored\n",
    "DIR = \"/storage/image/images/\"\n",
    "DIRCluster  = \"/storage/clusterimages/\""
   ]
  },
  {
   "cell_type": "code",
   "execution_count": 8,
   "metadata": {},
   "outputs": [],
   "source": [
    "file_names = [file for file in os.listdir(DIR)]"
   ]
  },
  {
   "cell_type": "code",
   "execution_count": 9,
   "metadata": {},
   "outputs": [
    {
     "name": "stderr",
     "output_type": "stream",
     "text": [
      "/usr/local/lib/python3.5/dist-packages/keras_applications/resnet50.py:265: UserWarning: The output shape of `ResNet50(include_top=False)` has been changed since Keras 2.2.0.\n",
      "  warnings.warn('The output shape of `ResNet50(include_top=False)` '\n"
     ]
    }
   ],
   "source": [
    "# Load the models with ImageNet weights\n",
    "resnet50_model = keras.applications.resnet50.ResNet50(include_top=False, weights=\"imagenet\", input_shape=(224,224,3))"
   ]
  },
  {
   "cell_type": "code",
   "execution_count": 10,
   "metadata": {},
   "outputs": [],
   "source": [
    "#Function that loops through each image and pre-process the data depending on the model type. \n",
    "def fitmodel(model):\n",
    "    X_train=[]\n",
    "    for img_path in file_names:\n",
    "        #print(str(img_path))\n",
    "        targetsize=(224,224)\n",
    "        if model=='INCEPTION':\n",
    "            targetsize = (299,299)\n",
    "        img = image.load_img(DIR + '/' + str(img_path), target_size=targetsize)\n",
    "        x = image.img_to_array(img)\n",
    "        x = np.expand_dims(x, axis=0)\n",
    "        if model=='VGG16':\n",
    "            x = keras.applications.vgg16.preprocess_input(x)\n",
    "            features = vgg16_model.predict(x)\n",
    "        elif model=='VGG19':\n",
    "            x = keras.applications.vgg19.preprocess_input(x)\n",
    "            features = vgg19_model.predict(x)\n",
    "        elif model=='RESNET':\n",
    "            x = keras.applications.resnet50.preprocess_input(x)\n",
    "            features = resnet50_model.predict(x)\n",
    "        else:\n",
    "            x = keras.applications.inception_v3.preprocess_input(x)\n",
    "            features = inceptionv3_model.predict(x)\n",
    "            \n",
    "        #print(features.shape)\n",
    "        features = np.array(features)\n",
    "        features= features.flatten()\n",
    "        X_train.append(features)\n",
    "    return X_train"
   ]
  },
  {
   "cell_type": "code",
   "execution_count": 11,
   "metadata": {},
   "outputs": [],
   "source": [
    "resnet50_output = fitmodel('RESNET')"
   ]
  },
  {
   "cell_type": "code",
   "execution_count": 12,
   "metadata": {},
   "outputs": [],
   "source": [
    "# Function that creates a PCA instance, fits it to the data and returns the instance\n",
    "def create_fit_PCA(data, n_components=None):\n",
    "    p = PCA(n_components=n_components, random_state=728)\n",
    "    p.fit(data)\n",
    "    return p"
   ]
  },
  {
   "cell_type": "code",
   "execution_count": 13,
   "metadata": {},
   "outputs": [],
   "source": [
    "# Create PCA instances for each covnet output\n",
    "resnet50_pca = create_fit_PCA(resnet50_output)\n"
   ]
  },
  {
   "cell_type": "code",
   "execution_count": 14,
   "metadata": {},
   "outputs": [],
   "source": [
    "#Funtion to plot the PCA\n",
    "def pca_cumsum_plot(pca):\n",
    "    plt.plot(np.cumsum(pca.explained_variance_ratio_))\n",
    "    plt.xlabel('number of components')\n",
    "    plt.ylabel('cumulative explained variance')\n",
    "    plt.show()"
   ]
  },
  {
   "cell_type": "code",
   "execution_count": 15,
   "metadata": {},
   "outputs": [
    {
     "data": {
      "image/png": "[encoded data removed]",
      "text/plain": [
       "<matplotlib.figure.Figure at 0x7fa88a686e10>"
      ]
     },
     "metadata": {},
     "output_type": "display_data"
    }
   ],
   "source": [
    "# Plot the cumulative explained variance for each covnet\n",
    "pca_cumsum_plot(resnet50_pca)\n"
   ]
  },
  {
   "cell_type": "code",
   "execution_count": 16,
   "metadata": {},
   "outputs": [],
   "source": [
    "# PCA transformations of covnet outputs\n",
    "resnet50_output_pca = resnet50_pca.transform(resnet50_output)\n"
   ]
  },
  {
   "cell_type": "code",
   "execution_count": 17,
   "metadata": {},
   "outputs": [],
   "source": [
    "#Fit the images to the Kmeans algo\n",
    "def create_train_kmeans(data, number_of_clusters=20):\n",
    "    \n",
    "    k= KMeans(init='k-means++', max_iter=100, n_clusters=15)\n",
    "\n",
    "    # Train the model\n",
    "    k.fit(data)\n",
    "    k.predict(data)\n",
    "\n",
    "    return k"
   ]
  },
  {
   "cell_type": "code",
   "execution_count": 18,
   "metadata": {},
   "outputs": [],
   "source": [
    "#Pass thr data to the K-Means and see how images are classified\n",
    "K_resnet50_pca = create_train_kmeans(resnet50_output_pca)"
   ]
  },
  {
   "cell_type": "code",
   "execution_count": 100,
   "metadata": {},
   "outputs": [],
   "source": [
    "#Function to prepare the output based on the labels.\n",
    "def clusterit (cluster, clustername):\n",
    "    df=pd.DataFrame({'image': [], 'cluster':[]}) \n",
    "    x=1\n",
    "    p=dict(zip(file_names,cluster.labels_))\n",
    "    for i,j in p.items() :\n",
    "        j='cluster_' + str(j)\n",
    "        source = DIR + '/' + i\n",
    "        destdir=DIRCluster + clustername + '/' +  j\n",
    "        dest=destdir + '/' + i\n",
    "        #print(dest)\n",
    "        df=df.append({'image':i, 'cluster':j }, ignore_index=True)\n",
    "    return df"
   ]
  },
  {
   "cell_type": "code",
   "execution_count": 101,
   "metadata": {},
   "outputs": [],
   "source": [
    "df=clusterit(K_resnet50_pca, 'RESNET_pca')\n"
   ]
  },
  {
   "cell_type": "code",
   "execution_count": 102,
   "metadata": {},
   "outputs": [
    {
     "data": {
      "text/html": [
       "<div>\n",
       "<style scoped>\n",
       "    .dataframe tbody tr th:only-of-type {\n",
       "        vertical-align: middle;\n",
       "    }\n",
       "\n",
       "    .dataframe tbody tr th {\n",
       "        vertical-align: top;\n",
       "    }\n",
       "\n",
       "    .dataframe thead th {\n",
       "        text-align: right;\n",
       "    }\n",
       "</style>\n",
       "<table border=\"1\" class=\"dataframe\">\n",
       "  <thead>\n",
       "    <tr style=\"text-align: right;\">\n",
       "      <th></th>\n",
       "      <th>cluster</th>\n",
       "      <th>image</th>\n",
       "    </tr>\n",
       "  </thead>\n",
       "  <tbody>\n",
       "    <tr>\n",
       "      <th>0</th>\n",
       "      <td>cluster_14</td>\n",
       "      <td>02759.jpg</td>\n",
       "    </tr>\n",
       "    <tr>\n",
       "      <th>1</th>\n",
       "      <td>cluster_7</td>\n",
       "      <td>04518.jpg</td>\n",
       "    </tr>\n",
       "    <tr>\n",
       "      <th>2</th>\n",
       "      <td>cluster_5</td>\n",
       "      <td>03600.jpg</td>\n",
       "    </tr>\n",
       "    <tr>\n",
       "      <th>3</th>\n",
       "      <td>cluster_13</td>\n",
       "      <td>03282.jpg</td>\n",
       "    </tr>\n",
       "    <tr>\n",
       "      <th>4</th>\n",
       "      <td>cluster_10</td>\n",
       "      <td>00198.jpg</td>\n",
       "    </tr>\n",
       "    <tr>\n",
       "      <th>5</th>\n",
       "      <td>cluster_10</td>\n",
       "      <td>01798.jpg</td>\n",
       "    </tr>\n",
       "    <tr>\n",
       "      <th>6</th>\n",
       "      <td>cluster_11</td>\n",
       "      <td>01548.jpg</td>\n",
       "    </tr>\n",
       "    <tr>\n",
       "      <th>7</th>\n",
       "      <td>cluster_14</td>\n",
       "      <td>01904.jpg</td>\n",
       "    </tr>\n",
       "    <tr>\n",
       "      <th>8</th>\n",
       "      <td>cluster_5</td>\n",
       "      <td>04929.jpg</td>\n",
       "    </tr>\n",
       "    <tr>\n",
       "      <th>9</th>\n",
       "      <td>cluster_13</td>\n",
       "      <td>01087.jpg</td>\n",
       "    </tr>\n",
       "  </tbody>\n",
       "</table>\n",
       "</div>"
      ],
      "text/plain": [
       "      cluster      image\n",
       "0  cluster_14  02759.jpg\n",
       "1   cluster_7  04518.jpg\n",
       "2   cluster_5  03600.jpg\n",
       "3  cluster_13  03282.jpg\n",
       "4  cluster_10  00198.jpg\n",
       "5  cluster_10  01798.jpg\n",
       "6  cluster_11  01548.jpg\n",
       "7  cluster_14  01904.jpg\n",
       "8   cluster_5  04929.jpg\n",
       "9  cluster_13  01087.jpg"
      ]
     },
     "execution_count": 102,
     "metadata": {},
     "output_type": "execute_result"
    }
   ],
   "source": [
    "df.head(10)"
   ]
  },
  {
   "cell_type": "code",
   "execution_count": 103,
   "metadata": {},
   "outputs": [],
   "source": [
    "df.to_csv('ImageClassifierResnet15.csv', sep=',')"
   ]
  },
  {
   "cell_type": "code",
   "execution_count": null,
   "metadata": {},
   "outputs": [],
   "source": []
  }
 ],
 "metadata": {
  "kernelspec": {
   "display_name": "Python 3",
   "language": "python",
   "name": "python3"
  },
  "language_info": {
   "codemirror_mode": {
    "name": "ipython",
    "version": 3
   },
   "file_extension": ".py",
   "mimetype": "text/x-python",
   "name": "python",
   "nbconvert_exporter": "python",
   "pygments_lexer": "ipython3",
   "version": "3.5.2"
  }
 },
 "nbformat": 4,
 "nbformat_minor": 2
}
